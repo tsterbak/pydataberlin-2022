{
 "cells": [
  {
   "cell_type": "markdown",
   "id": "68daaba6",
   "metadata": {},
   "source": [
    "# 3. Tips and Tricks"
   ]
  },
  {
   "cell_type": "code",
   "execution_count": 2,
   "id": "d55b5866",
   "metadata": {},
   "outputs": [],
   "source": [
    "import mlflow\n",
    "\n",
    "remote_server_uri = \"http://0.0.0.0:5000\"   # set to your server URI\n",
    "mlflow.set_tracking_uri(remote_server_uri)  # or set the MLFLOW_TRACKING_URI in the env"
   ]
  },
  {
   "cell_type": "markdown",
   "id": "5b8c8b11",
   "metadata": {},
   "source": [
    "## 3.1 Tags\n",
    "\n",
    "`mlflow.set_tag()` sets a **single key-value tag** in the currently active run. The key and value are both strings. (Use `mlflow.set_tags()` to set multiple tags at once.)"
   ]
  },
  {
   "cell_type": "markdown",
   "id": "e9f9be25",
   "metadata": {},
   "source": [
    "### Tag runs\n",
    "\n",
    "We want to set tags now after the run completed. Could be, for example, further testing completed before you want and can deploy a model."
   ]
  },
  {
   "cell_type": "code",
   "execution_count": 5,
   "id": "c4eac24e",
   "metadata": {},
   "outputs": [
    {
     "name": "stdout",
     "output_type": "stream",
     "text": [
      "[<Experiment: artifact_location='mlruns/0', experiment_id='0', lifecycle_stage='active', name='Default', tags={}>, <Experiment: artifact_location='mlruns/1', experiment_id='1', lifecycle_stage='active', name='penguin_classification', tags={}>]\n"
     ]
    }
   ],
   "source": [
    "from  mlflow.tracking import MlflowClient\n",
    "\n",
    "client = MlflowClient()\n",
    "experiments = client.list_experiments() # returns a list of mlflow.entities.Experiment\n",
    "print(experiments)"
   ]
  },
  {
   "cell_type": "code",
   "execution_count": 6,
   "id": "05a0f618",
   "metadata": {},
   "outputs": [],
   "source": [
    "run_id = \"d981dd2939c748fe9c7142dde9c832a8\"\n",
    "client.set_tag(run_id, \"tag_key\", \"tag_value\")"
   ]
  },
  {
   "cell_type": "markdown",
   "id": "a1d278d3",
   "metadata": {},
   "source": [
    "### Tag models"
   ]
  },
  {
   "cell_type": "code",
   "execution_count": 12,
   "id": "126f2a70",
   "metadata": {},
   "outputs": [
    {
     "data": {
      "text/plain": [
       "'1'"
      ]
     },
     "execution_count": 12,
     "metadata": {},
     "output_type": "execute_result"
    }
   ],
   "source": [
    "latest_model = client.get_latest_versions(\"penguins_clf\")[-1]\n",
    "latest_model.version"
   ]
  },
  {
   "cell_type": "code",
   "execution_count": 14,
   "id": "83698ba0",
   "metadata": {},
   "outputs": [],
   "source": [
    "client.set_model_version_tag(\"penguins_clf\", latest_model.version, \"tag_key\", \"tag_value\")"
   ]
  },
  {
   "cell_type": "markdown",
   "id": "552dd8bc",
   "metadata": {},
   "source": [
    "## 3.2 Custom models\n",
    "\n",
    "https://mlflow.org/docs/latest/models.html#id47"
   ]
  },
  {
   "cell_type": "markdown",
   "id": "4fd48471",
   "metadata": {},
   "source": [
    "## 3.3 MLflow Examples\n",
    "\n",
    "https://github.com/mlflow/mlflow/tree/master/examples"
   ]
  },
  {
   "cell_type": "code",
   "execution_count": null,
   "id": "b3db1d92",
   "metadata": {},
   "outputs": [],
   "source": [
    "dd"
   ]
  }
 ],
 "metadata": {
  "kernelspec": {
   "display_name": "Python 3 (ipykernel)",
   "language": "python",
   "name": "python3"
  },
  "language_info": {
   "codemirror_mode": {
    "name": "ipython",
    "version": 3
   },
   "file_extension": ".py",
   "mimetype": "text/x-python",
   "name": "python",
   "nbconvert_exporter": "python",
   "pygments_lexer": "ipython3",
   "version": "3.9.12"
  }
 },
 "nbformat": 4,
 "nbformat_minor": 5
}
